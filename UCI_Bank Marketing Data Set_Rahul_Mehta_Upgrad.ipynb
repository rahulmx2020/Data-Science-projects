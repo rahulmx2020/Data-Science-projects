{
 "cells": [
  {
   "cell_type": "code",
   "execution_count": 1,
   "metadata": {},
   "outputs": [],
   "source": [
    "# Importing Libraries\n",
    "\n",
    "import pandas as pd\n",
    "import numpy as np\n",
    "\n",
    "from sklearn import preprocessing\n",
    "from sklearn.preprocessing import Imputer\n",
    "\n",
    "from sklearn.model_selection import train_test_split\n",
    "\n",
    "from sklearn.naive_bayes import GaussianNB\n",
    "\n",
    "from sklearn.metrics import accuracy_score\n",
    "\n",
    "from sklearn.metrics import confusion_matrix\n",
    "\n",
    "from sklearn.linear_model import LogisticRegression\n",
    "\n",
    "from sklearn.neighbors import KNeighborsClassifier\n",
    "\n",
    "import matplotlib.pyplot as plt"
   ]
  },
  {
   "cell_type": "code",
   "execution_count": 2,
   "metadata": {},
   "outputs": [],
   "source": [
    "# Importing Bank data from the files\n",
    "\n",
    "bankdata_df = pd.read_csv('D:/Downloads New/bank-additional/bank-additional/bank-additional-full.csv', header = 0, delimiter = ';', engine = 'python')\n",
    "\n",
    "bankdatatest_df = pd.read_csv('D:/Downloads New/bank-additional/bank-additional/bank-additional.csv', header = 0, delimiter = ';', engine = 'python')"
   ]
  },
  {
   "cell_type": "code",
   "execution_count": 4,
   "metadata": {
    "scrolled": true
   },
   "outputs": [
    {
     "data": {
      "text/plain": [
       "age               0\n",
       "job               0\n",
       "marital           0\n",
       "education         0\n",
       "default           0\n",
       "housing           0\n",
       "loan              0\n",
       "contact           0\n",
       "month             0\n",
       "day_of_week       0\n",
       "duration          0\n",
       "campaign          0\n",
       "pdays             0\n",
       "previous          0\n",
       "poutcome          0\n",
       "emp.var.rate      0\n",
       "cons.price.idx    0\n",
       "cons.conf.idx     0\n",
       "euribor3m         0\n",
       "nr.employed       0\n",
       "y                 0\n",
       "dtype: int64"
      ]
     },
     "execution_count": 4,
     "metadata": {},
     "output_type": "execute_result"
    }
   ],
   "source": [
    "# Checking for nulls in Bank training data\n",
    "bankdata_df.isnull().sum()"
   ]
  },
  {
   "cell_type": "code",
   "execution_count": 5,
   "metadata": {},
   "outputs": [
    {
     "data": {
      "text/plain": [
       "age               0\n",
       "job               0\n",
       "marital           0\n",
       "education         0\n",
       "default           0\n",
       "housing           0\n",
       "loan              0\n",
       "contact           0\n",
       "month             0\n",
       "day_of_week       0\n",
       "duration          0\n",
       "campaign          0\n",
       "pdays             0\n",
       "previous          0\n",
       "poutcome          0\n",
       "emp.var.rate      0\n",
       "cons.price.idx    0\n",
       "cons.conf.idx     0\n",
       "euribor3m         0\n",
       "nr.employed       0\n",
       "y                 0\n",
       "dtype: int64"
      ]
     },
     "execution_count": 5,
     "metadata": {},
     "output_type": "execute_result"
    }
   ],
   "source": [
    "# Checking Nulls in Bank Test data\n",
    "bankdatatest_df.isnull().sum()"
   ]
  },
  {
   "cell_type": "code",
   "execution_count": 8,
   "metadata": {},
   "outputs": [],
   "source": [
    "# Creating duplicate files which can be worked on, so that the actual data is intact\n",
    "\n",
    "bankdata_dup = bankdata_df\n",
    "bankdatatest_dup = bankdatatest_df"
   ]
  },
  {
   "cell_type": "code",
   "execution_count": 12,
   "metadata": {},
   "outputs": [],
   "source": [
    "# Splitting y (target variable) from the remaining data\n",
    "\n",
    "bankdata_dup_xtrain = bankdata_dup.iloc[:,:-1]\n",
    "bankdata_dup_ytrain = bankdata_dup.iloc[:,-1]\n",
    "\n",
    "# Doing the same for test data\n",
    "\n",
    "bankdata_dup_xtest = bankdatatest_dup.iloc[:,:-1]\n",
    "bankdata_dup_ytest = bankdatatest_dup.iloc[:,-1]\n",
    "\n",
    "bankdata_dup_xmerged = pd.concat([bankdata_dup_xtrain, bankdata_dup_xtest], axis = 0)\n",
    "\n",
    "# As the data has categorical variables, applying get dummies on data, so that regression can be applied on the same\n",
    "\n",
    "bankdata_dup_xmerged = pd.get_dummies(bankdata_dup_xmerged)\n",
    "\n",
    "bankdata_dup_xtrain = bankdata_dup_xmerged.iloc[:len(bankdata_dup_xtrain), :]\n",
    "bankdata_dup_xtest = bankdata_dup_xmerged.iloc[len(bankdata_dup_xtrain):,:]\n",
    "\n",
    "# Label Encoding\n",
    "\n",
    "le = preprocessing.LabelEncoder()\n",
    "bankdata_dup_ytrain = pd.DataFrame(le.fit_transform(bankdata_dup_ytrain))\n",
    "bankdata_dup_ytest = pd.DataFrame(le.fit_transform(bankdata_dup_ytest))"
   ]
  },
  {
   "cell_type": "code",
   "execution_count": 13,
   "metadata": {},
   "outputs": [],
   "source": [
    "# Fitting Naive Bayes Classifier to the data\n",
    "\n",
    "#Fitting on Train Data\n",
    "\n",
    "model = GaussianNB()\n",
    "model.fit(bankdata_dup_xtrain, bankdata_dup_ytrain.values.ravel())\n",
    "ytrain_pred = model.predict(bankdata_dup_xtrain)"
   ]
  },
  {
   "cell_type": "code",
   "execution_count": 14,
   "metadata": {},
   "outputs": [
    {
     "name": "stdout",
     "output_type": "stream",
     "text": [
      "Overall accuracy for Naive Bayes classifier on train data is 0.864475\n"
     ]
    }
   ],
   "source": [
    "# Accuracy score for Naive-Bayes Classifier\n",
    "\n",
    "print('Overall accuracy for Naive Bayes classifier on train data is %f'%accuracy_score(bankdata_dup_ytrain, ytrain_pred, normalize = True))"
   ]
  },
  {
   "cell_type": "code",
   "execution_count": 15,
   "metadata": {},
   "outputs": [],
   "source": [
    "# Fitting Naive Bayes model on Test data\n",
    "\n",
    "ytest_pred = model.predict(bankdata_dup_xtest)"
   ]
  },
  {
   "cell_type": "code",
   "execution_count": 16,
   "metadata": {},
   "outputs": [
    {
     "name": "stdout",
     "output_type": "stream",
     "text": [
      "Overall accuracy for Naive Bayes classifier on test data is 0.865259\n"
     ]
    }
   ],
   "source": [
    "print('Overall accuracy for Naive Bayes classifier on test data is %f'%accuracy_score(bankdata_dup_ytest, ytest_pred, normalize = True))"
   ]
  },
  {
   "cell_type": "code",
   "execution_count": 17,
   "metadata": {},
   "outputs": [],
   "source": [
    "# Confusion Matrix and Class scores\n",
    "\n",
    "cm_train = confusion_matrix(bankdata_dup_ytrain, ytrain_pred, labels = None, sample_weight = None)\n",
    "total_accuracy_train = (cm_train[0, 0] + cm_train[1, 1]) / np.sum(cm_train)\n",
    "class1_accuracy_train = cm_train[0, 0] / np.sum(cm_train[0, :])\n",
    "class2_accuracy_train = cm_train[1, 1] / np.sum(cm_train[1, :])"
   ]
  },
  {
   "cell_type": "code",
   "execution_count": 18,
   "metadata": {},
   "outputs": [
    {
     "name": "stdout",
     "output_type": "stream",
     "text": [
      "Confusion Matrix for train data:\n",
      "[[33214  3334]\n",
      " [ 2248  2392]]\n",
      "Overall accuracy for train data: 0.864475\n",
      "Accuracy for Class 1 (No): 0.908777\n",
      "Accuracy for Class 2 (Yes): 0.515517\n"
     ]
    }
   ],
   "source": [
    "# Printing the results for Naive Bayes Classifier (Train data)\n",
    "\n",
    "print(\"Confusion Matrix for train data:\")\n",
    "print(cm_train)\n",
    "print(\"Overall accuracy for train data: %f\" % total_accuracy_train)\n",
    "print(\"Accuracy for Class 1 (No): %f\" % class1_accuracy_train)\n",
    "print(\"Accuracy for Class 2 (Yes): %f\" % class2_accuracy_train)"
   ]
  },
  {
   "cell_type": "code",
   "execution_count": 19,
   "metadata": {},
   "outputs": [],
   "source": [
    "# Confusion Matrix and Class Scores\n",
    "\n",
    "cm_test = confusion_matrix(bankdata_dup_ytest, ytest_pred, labels = None, sample_weight = None)\n",
    "total_accuracy_test = (cm_test[0, 0] + cm_test[1, 1]) / np.sum(cm_test)\n",
    "class1_accuracy_test = cm_test[0, 0] / np.sum(cm_test[0, :])\n",
    "class2_accuracy_test = cm_test[1, 1] / np.sum(cm_test[1, :])"
   ]
  },
  {
   "cell_type": "code",
   "execution_count": 20,
   "metadata": {
    "scrolled": true
   },
   "outputs": [
    {
     "name": "stdout",
     "output_type": "stream",
     "text": [
      "Confusion Matrix for test data:\n",
      "[[3327  341]\n",
      " [ 214  237]]\n",
      "Overall accuracy for test data: 0.865259\n",
      "Accuracy for Class 1 (No): 0.907034\n",
      "Accuracy for Class 2 (Yes): 0.525499\n"
     ]
    }
   ],
   "source": [
    "# Printing the results for Naive Bayes Classifier (Test data)\n",
    "\n",
    "print(\"Confusion Matrix for test data:\")\n",
    "print(cm_test)\n",
    "print(\"Overall accuracy for test data: %f\" % total_accuracy_test)\n",
    "print(\"Accuracy for Class 1 (No): %f\" % class1_accuracy_test)\n",
    "print(\"Accuracy for Class 2 (Yes): %f\" % class2_accuracy_test)"
   ]
  },
  {
   "cell_type": "code",
   "execution_count": 21,
   "metadata": {
    "scrolled": false
   },
   "outputs": [
    {
     "data": {
      "image/png": "[encoded data removed]",
      "text/plain": [
       "<Figure size 432x288 with 1 Axes>"
      ]
     },
     "metadata": {
      "needs_background": "light"
     },
     "output_type": "display_data"
    },
    {
     "data": {
      "image/png": "[encoded data removed]",
      "text/plain": [
       "<Figure size 432x288 with 1 Axes>"
      ]
     },
     "metadata": {
      "needs_background": "light"
     },
     "output_type": "display_data"
    },
    {
     "data": {
      "image/png": "[encoded data removed]",
      "text/plain": [
       "<Figure size 432x288 with 1 Axes>"
      ]
     },
     "metadata": {
      "needs_background": "light"
     },
     "output_type": "display_data"
    }
   ],
   "source": [
    "# Plotting the results for Naive Bayes Classifier (Train and test data)\n",
    "\n",
    "plt.bar(x = ['train(%f)'%total_accuracy_train,'test(%f)'%total_accuracy_test], height = [total_accuracy_train, total_accuracy_test] )\n",
    "plt.title(\"Overall Accuracy for train and test data (Naive-Bayes Classifier)\")\n",
    "plt.show()\n",
    "\n",
    "plt.bar(x = ['train(%f)'%class1_accuracy_train,'test(%f)'%class1_accuracy_test], height = [class1_accuracy_train, class1_accuracy_test] )\n",
    "plt.title(\"Class 1 (No) Accuracy for train and test data (Naive-Bayes Classifier)\")\n",
    "plt.show()\n",
    "\n",
    "plt.bar(x = ['train(%f)'%class2_accuracy_train,'test(%f)'%class2_accuracy_test], height = [class2_accuracy_train, class2_accuracy_test] )\n",
    "plt.title(\"Class 2 (Yes) Accuracy for train and test data (Naive-Bayes Classifier)\")\n",
    "plt.show()"
   ]
  },
  {
   "cell_type": "code",
   "execution_count": 25,
   "metadata": {},
   "outputs": [],
   "source": [
    "# Fitting Logistic Regression to the data\n",
    "\n",
    "LR_model = LogisticRegression(solver='liblinear')\n",
    "LR_model.fit(bankdata_dup_xtrain, bankdata_dup_ytrain.values.ravel())\n",
    "LR_ytrain_pred = LR_model.predict(bankdata_dup_xtrain)\n",
    "LR_ytest_pred = LR_model.predict(bankdata_dup_xtest)"
   ]
  },
  {
   "cell_type": "code",
   "execution_count": 26,
   "metadata": {},
   "outputs": [],
   "source": [
    "# Confusion Matrix and Class scores\n",
    "\n",
    "LR_cm_train = confusion_matrix(bankdata_dup_ytrain.values.ravel(), LR_ytrain_pred, labels = None, sample_weight = None)\n",
    "LR_total_accuracy_train = (LR_cm_train[0, 0] + LR_cm_train[1, 1]) / np.sum(LR_cm_train)\n",
    "LR_train_class1_accuracy = LR_cm_train[0, 0] / np.sum(LR_cm_train[0, :])\n",
    "LR_train_class2_accuracy = LR_cm_train[1, 1] / np.sum(LR_cm_train[1, :])\n",
    "\n",
    "LR_cm_test = confusion_matrix(bankdata_dup_ytest.values.ravel(), LR_ytest_pred, labels = None, sample_weight = None)\n",
    "LR_total_accuracy_test = (LR_cm_test[0, 0] + LR_cm_test[1, 1]) / np.sum(LR_cm_test)\n",
    "LR_test_class1_accuracy = LR_cm_test[0, 0] / np.sum(LR_cm_test[0, :])\n",
    "LR_test_class2_accuracy = LR_cm_test[1, 1] / np.sum(LR_cm_test[1, :])"
   ]
  },
  {
   "cell_type": "code",
   "execution_count": 39,
   "metadata": {},
   "outputs": [
    {
     "name": "stdout",
     "output_type": "stream",
     "text": [
      "Confusion Matrix for LR on train data:\n",
      "[[35614   934]\n",
      " [ 2750  1890]]\n",
      "Overall accuracy of LR on train data: 0.910556\n",
      "LR Accuracy for Class 1 (No): 0.974445\n",
      "LR Accuracy for Class 2 (Yes): 0.407328\n"
     ]
    }
   ],
   "source": [
    "# Printing the results for Logistic Regression (train data)\n",
    "\n",
    "print(\"Confusion Matrix for LR on train data:\")\n",
    "print(LR_cm_train)\n",
    "print(\"Overall accuracy of LR on train data: %f\" % LR_total_accuracy_train)\n",
    "print(\"LR Accuracy for Class 1 (No): %f\" % LR_train_class1_accuracy)\n",
    "print(\"LR Accuracy for Class 2 (Yes): %f\" % LR_train_class2_accuracy)"
   ]
  },
  {
   "cell_type": "code",
   "execution_count": 40,
   "metadata": {},
   "outputs": [
    {
     "name": "stdout",
     "output_type": "stream",
     "text": [
      "Confusion Matrix for LR on test data:\n",
      "[[3576   92]\n",
      " [ 261  190]]\n",
      "Overall accuracy of LR on test data: 0.914300\n",
      "LR Accuracy for Class 1 (No): 0.974918\n",
      "LR Accuracy for Class 2 (Yes): 0.421286\n"
     ]
    }
   ],
   "source": [
    "# Printing the results for Logistic Regression (test data)\n",
    "\n",
    "print(\"Confusion Matrix for LR on test data:\")\n",
    "print(LR_cm_test)\n",
    "print(\"Overall accuracy of LR on test data: %f\" % LR_total_accuracy_test)\n",
    "print(\"LR Accuracy for Class 1 (No): %f\" % LR_test_class1_accuracy)\n",
    "print(\"LR Accuracy for Class 2 (Yes): %f\" % LR_test_class2_accuracy)"
   ]
  },
  {
   "cell_type": "code",
   "execution_count": 46,
   "metadata": {
    "scrolled": true
   },
   "outputs": [
    {
     "data": {
      "image/png": "[encoded data removed]",
      "text/plain": [
       "<Figure size 432x288 with 1 Axes>"
      ]
     },
     "metadata": {
      "needs_background": "light"
     },
     "output_type": "display_data"
    },
    {
     "data": {
      "image/png": "[encoded data removed]",
      "text/plain": [
       "<Figure size 432x288 with 1 Axes>"
      ]
     },
     "metadata": {
      "needs_background": "light"
     },
     "output_type": "display_data"
    },
    {
     "data": {
      "image/png": "[encoded data removed]",
      "text/plain": [
       "<Figure size 432x288 with 1 Axes>"
      ]
     },
     "metadata": {
      "needs_background": "light"
     },
     "output_type": "display_data"
    }
   ],
   "source": [
    "# Plotting the results for Logistic Regression (train and test data)\n",
    "\n",
    "plt.bar(x = ['train(%f)'%LR_total_accuracy_train,'test(%f)'%LR_total_accuracy_test], height = [LR_total_accuracy_train, LR_total_accuracy_test] )\n",
    "plt.title(\"Overall Accuracy for train and test data (Logistic Regression)\")\n",
    "plt.show()\n",
    "\n",
    "plt.bar(x = ['train(%f)'%LR_train_class1_accuracy,'test(%f)'%LR_test_class1_accuracy], height = [LR_train_class1_accuracy, LR_test_class1_accuracy] )\n",
    "plt.title(\"Class 1 (No) Accuracy for train and test data (Logistic Regression)\")\n",
    "plt.show()\n",
    "\n",
    "plt.bar(x = ['train(%f)'%LR_train_class2_accuracy,'test(%f)'%LR_test_class2_accuracy], height = [LR_train_class2_accuracy, LR_test_class2_accuracy] )\n",
    "plt.title(\"Class 2 (Yes) Accuracy for train and test data (Logistic Regression)\")\n",
    "plt.show()\n"
   ]
  },
  {
   "cell_type": "code",
   "execution_count": 33,
   "metadata": {},
   "outputs": [],
   "source": [
    "# Fitting K-nearest neighbours classifier to the data\n",
    "\n",
    "KNN_score = []\n",
    "KNN_test_score = []\n",
    "KNN_ypred = []\n",
    "KNN_ytestpred = []\n",
    "\n",
    "KNN_train_initial = 0.0\n",
    "for i in range(5):\n",
    "    KNN = KNeighborsClassifier(n_neighbors = i+1)\n",
    "    KNN.fit(bankdata_dup_xtrain, bankdata_dup_ytrain.values.ravel()) \n",
    "    KNN_pred = KNN.predict(bankdata_dup_xtrain)\n",
    "    KNN_train_accuracy = accuracy_score(bankdata_dup_ytrain.values.ravel(), KNN_pred)\n",
    "    if KNN_train_accuracy > KNN_train_initial:\n",
    "        k = i\n",
    "        KNN_train_initial = KNN_train_accuracy\n",
    "        KNN_ypred = KNN_pred\n",
    "    KNN_score.append(KNN_train_accuracy)\n",
    "\n",
    "KNN_test_initial = 0.0\n",
    "for i in range(5):\n",
    "    KNN_test = KNeighborsClassifier(n_neighbors = i+1)\n",
    "    KNN_test.fit(bankdata_dup_xtrain, bankdata_dup_ytrain.values.ravel())  \n",
    "    KNN_testpred = KNN_test.predict(bankdata_dup_xtest)\n",
    "    KNN_test_accuracy = accuracy_score(bankdata_dup_ytest.values.ravel(), KNN_testpred)\n",
    "    if i == k:\n",
    "        KNN_ytestpred = KNN_testpred\n",
    "    KNN_test_score.append(KNN_test_accuracy)"
   ]
  },
  {
   "cell_type": "code",
   "execution_count": 42,
   "metadata": {},
   "outputs": [
    {
     "name": "stdout",
     "output_type": "stream",
     "text": [
      "For train data:\n",
      "Overall accuracy for neighbours n = 1 is 1.000000\n",
      "Overall accuracy for neighbours n = 2 is 0.943794\n",
      "Overall accuracy for neighbours n = 3 is 0.941973\n",
      "Overall accuracy for neighbours n = 4 is 0.930732\n",
      "Overall accuracy for neighbours n = 5 is 0.931388\n"
     ]
    }
   ],
   "source": [
    "# Printing Overall Accuracy with varying number of neighbours (train data)\n",
    "\n",
    "print('For train data:')\n",
    "\n",
    "for i in range(len(KNN_score)):\n",
    "    print('Overall accuracy for neighbours n = %d is %f' % (i+1, KNN_score[i]))"
   ]
  },
  {
   "cell_type": "code",
   "execution_count": 43,
   "metadata": {},
   "outputs": [
    {
     "name": "stdout",
     "output_type": "stream",
     "text": [
      "For test data:\n",
      "Overall accuracy for neighbours n = 1 is 1.000000\n",
      "Overall accuracy for neighbours n = 2 is 0.943433\n",
      "Overall accuracy for neighbours n = 3 is 0.939306\n",
      "Overall accuracy for neighbours n = 4 is 0.932751\n",
      "Overall accuracy for neighbours n = 5 is 0.931051\n"
     ]
    }
   ],
   "source": [
    "# Printing Overall Accuracy with varying number of neighbours (test data)\n",
    "\n",
    "print('For test data:')\n",
    "\n",
    "for i in range(len(KNN_test_score)):\n",
    "    print('Overall accuracy for neighbours n = %d is %f' % (i+1, KNN_test_score[i]))"
   ]
  },
  {
   "cell_type": "code",
   "execution_count": 44,
   "metadata": {},
   "outputs": [
    {
     "name": "stdout",
     "output_type": "stream",
     "text": [
      "KNN accuracy for Class 1(No) on train data is 1.000000\n",
      "KNN accuracy for Class 1(No) on test data is 1.000000\n",
      "KNN accuracy for Class 2(Yes) on train data is 1.000000\n",
      "KNN accuracy for Class 2(Yes) on test data is 1.000000\n"
     ]
    }
   ],
   "source": [
    "# Validating K-nearest neighbours using Class Accuracy; it should be one\n",
    "\n",
    "KNN_cm_train = confusion_matrix(bankdata_dup_ytrain.values.ravel(), KNN_ypred, labels = None, sample_weight = None)\n",
    "KNN_total_accuracy_train = (KNN_cm_train[0, 0] + KNN_cm_train[1, 1]) / np.sum(KNN_cm_train)\n",
    "KNN_train_class1_accuracy = KNN_cm_train[0, 0] / np.sum(KNN_cm_train[0, :])\n",
    "KNN_train_class2_accuracy = KNN_cm_train[1, 1] / np.sum(KNN_cm_train[1, :])\n",
    "\n",
    "KNN_cm_test = confusion_matrix(bankdata_dup_ytest.values.ravel(), KNN_ytestpred, labels = None, sample_weight = None)\n",
    "KNN_total_accuracy_test = (KNN_cm_test[0, 0] + KNN_cm_test[1, 1]) / np.sum(KNN_cm_test)\n",
    "KNN_test_class1_accuracy = KNN_cm_test[0, 0] / np.sum(KNN_cm_test[0, :])\n",
    "KNN_test_class2_accuracy = KNN_cm_test[1, 1] / np.sum(KNN_cm_test[1, :])\n",
    "\n",
    "print('KNN accuracy for Class 1(No) on train data is %f'%KNN_train_class1_accuracy)\n",
    "print('KNN accuracy for Class 1(No) on test data is %f'%KNN_test_class1_accuracy)\n",
    "print('KNN accuracy for Class 2(Yes) on train data is %f'%KNN_train_class2_accuracy)\n",
    "print('KNN accuracy for Class 2(Yes) on test data is %f'%KNN_test_class2_accuracy)"
   ]
  },
  {
   "cell_type": "code",
   "execution_count": 47,
   "metadata": {},
   "outputs": [
    {
     "data": {
      "image/png": "[encoded data removed]",
      "text/plain": [
       "<Figure size 432x288 with 1 Axes>"
      ]
     },
     "metadata": {
      "needs_background": "light"
     },
     "output_type": "display_data"
    },
    {
     "data": {
      "image/png": "[encoded data removed]",
      "text/plain": [
       "<Figure size 432x288 with 1 Axes>"
      ]
     },
     "metadata": {
      "needs_background": "light"
     },
     "output_type": "display_data"
    },
    {
     "data": {
      "image/png": "[encoded data removed]",
      "text/plain": [
       "<Figure size 432x288 with 1 Axes>"
      ]
     },
     "metadata": {
      "needs_background": "light"
     },
     "output_type": "display_data"
    },
    {
     "data": {
      "image/png": "[encoded data removed]",
      "text/plain": [
       "<Figure size 432x288 with 1 Axes>"
      ]
     },
     "metadata": {
      "needs_background": "light"
     },
     "output_type": "display_data"
    }
   ],
   "source": [
    "# Plotting the results of K-nearest neighbours (train and test data)\n",
    "\n",
    "plt.bar(x = ['1','2','3','4','5'],height = KNN_score )\n",
    "plt.title(\"Variation of KNN accuracy on train data with varying number of neighbours\")\n",
    "plt.xlabel('Number of Neighbours N')\n",
    "plt.ylabel('KNN accuracy')\n",
    "plt.show()\n",
    "\n",
    "plt.bar(x = ['1','2','3','4','5'],height = KNN_test_score )\n",
    "plt.title(\"Variation of KNN accuracy on test data with varying number of neighbours\")\n",
    "plt.xlabel('Number of Neighbours N')\n",
    "plt.ylabel('KNN accuracy')\n",
    "plt.show()\n",
    "\n",
    "plt.bar(x = ['train(%f)'%KNN_train_class1_accuracy,'test(%f)'%KNN_test_class1_accuracy], height = [KNN_train_class1_accuracy, KNN_test_class1_accuracy] )\n",
    "plt.title(\"Class 1 (No) Accuracy for train and test data (K nearest neighbours)\")\n",
    "plt.show()\n",
    "\n",
    "plt.bar(x = ['train(%f)'%KNN_train_class2_accuracy,'test(%f)'%KNN_test_class2_accuracy], height = [KNN_train_class2_accuracy, KNN_test_class2_accuracy] )\n",
    "plt.title(\"Class 2 (Yes) Accuracy for train and test data (K nearest neighbours)\")\n",
    "plt.show()"
   ]
  },
  {
   "cell_type": "code",
   "execution_count": null,
   "metadata": {},
   "outputs": [],
   "source": []
  }
 ],
 "metadata": {
  "kernelspec": {
   "display_name": "Python 3",
   "language": "python",
   "name": "python3"
  },
  "language_info": {
   "codemirror_mode": {
    "name": "ipython",
    "version": 3
   },
   "file_extension": ".py",
   "mimetype": "text/x-python",
   "name": "python",
   "nbconvert_exporter": "python",
   "pygments_lexer": "ipython3",
   "version": "3.7.1"
  }
 },
 "nbformat": 4,
 "nbformat_minor": 2
}
